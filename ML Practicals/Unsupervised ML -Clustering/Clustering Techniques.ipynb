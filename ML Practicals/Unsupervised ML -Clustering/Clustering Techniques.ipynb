{
 "cells": [
  {
   "cell_type": "markdown",
   "id": "add671e6",
   "metadata": {},
   "source": [
    "### <span style=\"color: Green;\">1. K means clustering</span> \n",
    "### <span style=\"color: Blue;\">2. Hierarchial Clustering</span> \n",
    "### <span style=\"color: Orange;\">3. DB Scan Clustering</span> "
   ]
  },
  {
   "cell_type": "markdown",
   "id": "aeffa36b",
   "metadata": {},
   "source": [
    "## 1.Kmeans Clustering"
   ]
  },
  {
   "cell_type": "code",
   "execution_count": 1,
   "id": "52711ef5",
   "metadata": {
    "collapsed": true
   },
   "outputs": [],
   "source": [
    "# Import mandotory libraries\n",
    "import pandas as pd\n",
    "import numpy as np\n",
    "import matplotlib.pyplot as plt\n",
    "import warnings\n",
    "warnings.filterwarnings('ignore')\n",
    "from sklearn.datasets import make_blobs\n",
    "from sklearn.cluster import KMeans"
   ]
  },
  {
   "cell_type": "code",
   "execution_count": 2,
   "id": "ae758353",
   "metadata": {},
   "outputs": [],
   "source": [
    "X = np.array([[1, 2], [1, 4], [1, 0],[10, 2], [10, 4], [10, 0]])"
   ]
  },
  {
   "cell_type": "code",
   "execution_count": 3,
   "id": "d648ca44",
   "metadata": {},
   "outputs": [
    {
     "data": {
      "text/plain": [
       "array([[ 1,  2],\n",
       "       [ 1,  4],\n",
       "       [ 1,  0],\n",
       "       [10,  2],\n",
       "       [10,  4],\n",
       "       [10,  0]])"
      ]
     },
     "execution_count": 3,
     "metadata": {},
     "output_type": "execute_result"
    }
   ],
   "source": [
    "X"
   ]
  },
  {
   "cell_type": "code",
   "execution_count": 4,
   "id": "cdeb1c89",
   "metadata": {},
   "outputs": [],
   "source": [
    "kmeans = KMeans(n_clusters=2, random_state=0, n_init=\"auto\")"
   ]
  },
  {
   "cell_type": "code",
   "execution_count": 5,
   "id": "6b7be2a2",
   "metadata": {},
   "outputs": [
    {
     "data": {
      "text/html": [
       "<style>#sk-container-id-1 {color: black;background-color: white;}#sk-container-id-1 pre{padding: 0;}#sk-container-id-1 div.sk-toggleable {background-color: white;}#sk-container-id-1 label.sk-toggleable__label {cursor: pointer;display: block;width: 100%;margin-bottom: 0;padding: 0.3em;box-sizing: border-box;text-align: center;}#sk-container-id-1 label.sk-toggleable__label-arrow:before {content: \"▸\";float: left;margin-right: 0.25em;color: #696969;}#sk-container-id-1 label.sk-toggleable__label-arrow:hover:before {color: black;}#sk-container-id-1 div.sk-estimator:hover label.sk-toggleable__label-arrow:before {color: black;}#sk-container-id-1 div.sk-toggleable__content {max-height: 0;max-width: 0;overflow: hidden;text-align: left;background-color: #f0f8ff;}#sk-container-id-1 div.sk-toggleable__content pre {margin: 0.2em;color: black;border-radius: 0.25em;background-color: #f0f8ff;}#sk-container-id-1 input.sk-toggleable__control:checked~div.sk-toggleable__content {max-height: 200px;max-width: 100%;overflow: auto;}#sk-container-id-1 input.sk-toggleable__control:checked~label.sk-toggleable__label-arrow:before {content: \"▾\";}#sk-container-id-1 div.sk-estimator input.sk-toggleable__control:checked~label.sk-toggleable__label {background-color: #d4ebff;}#sk-container-id-1 div.sk-label input.sk-toggleable__control:checked~label.sk-toggleable__label {background-color: #d4ebff;}#sk-container-id-1 input.sk-hidden--visually {border: 0;clip: rect(1px 1px 1px 1px);clip: rect(1px, 1px, 1px, 1px);height: 1px;margin: -1px;overflow: hidden;padding: 0;position: absolute;width: 1px;}#sk-container-id-1 div.sk-estimator {font-family: monospace;background-color: #f0f8ff;border: 1px dotted black;border-radius: 0.25em;box-sizing: border-box;margin-bottom: 0.5em;}#sk-container-id-1 div.sk-estimator:hover {background-color: #d4ebff;}#sk-container-id-1 div.sk-parallel-item::after {content: \"\";width: 100%;border-bottom: 1px solid gray;flex-grow: 1;}#sk-container-id-1 div.sk-label:hover label.sk-toggleable__label {background-color: #d4ebff;}#sk-container-id-1 div.sk-serial::before {content: \"\";position: absolute;border-left: 1px solid gray;box-sizing: border-box;top: 0;bottom: 0;left: 50%;z-index: 0;}#sk-container-id-1 div.sk-serial {display: flex;flex-direction: column;align-items: center;background-color: white;padding-right: 0.2em;padding-left: 0.2em;position: relative;}#sk-container-id-1 div.sk-item {position: relative;z-index: 1;}#sk-container-id-1 div.sk-parallel {display: flex;align-items: stretch;justify-content: center;background-color: white;position: relative;}#sk-container-id-1 div.sk-item::before, #sk-container-id-1 div.sk-parallel-item::before {content: \"\";position: absolute;border-left: 1px solid gray;box-sizing: border-box;top: 0;bottom: 0;left: 50%;z-index: -1;}#sk-container-id-1 div.sk-parallel-item {display: flex;flex-direction: column;z-index: 1;position: relative;background-color: white;}#sk-container-id-1 div.sk-parallel-item:first-child::after {align-self: flex-end;width: 50%;}#sk-container-id-1 div.sk-parallel-item:last-child::after {align-self: flex-start;width: 50%;}#sk-container-id-1 div.sk-parallel-item:only-child::after {width: 0;}#sk-container-id-1 div.sk-dashed-wrapped {border: 1px dashed gray;margin: 0 0.4em 0.5em 0.4em;box-sizing: border-box;padding-bottom: 0.4em;background-color: white;}#sk-container-id-1 div.sk-label label {font-family: monospace;font-weight: bold;display: inline-block;line-height: 1.2em;}#sk-container-id-1 div.sk-label-container {text-align: center;}#sk-container-id-1 div.sk-container {/* jupyter's `normalize.less` sets `[hidden] { display: none; }` but bootstrap.min.css set `[hidden] { display: none !important; }` so we also need the `!important` here to be able to override the default hidden behavior on the sphinx rendered scikit-learn.org. See: https://github.com/scikit-learn/scikit-learn/issues/21755 */display: inline-block !important;position: relative;}#sk-container-id-1 div.sk-text-repr-fallback {display: none;}</style><div id=\"sk-container-id-1\" class=\"sk-top-container\"><div class=\"sk-text-repr-fallback\"><pre>KMeans(n_clusters=2, n_init=&#x27;auto&#x27;, random_state=0)</pre><b>In a Jupyter environment, please rerun this cell to show the HTML representation or trust the notebook. <br />On GitHub, the HTML representation is unable to render, please try loading this page with nbviewer.org.</b></div><div class=\"sk-container\" hidden><div class=\"sk-item\"><div class=\"sk-estimator sk-toggleable\"><input class=\"sk-toggleable__control sk-hidden--visually\" id=\"sk-estimator-id-1\" type=\"checkbox\" checked><label for=\"sk-estimator-id-1\" class=\"sk-toggleable__label sk-toggleable__label-arrow\">KMeans</label><div class=\"sk-toggleable__content\"><pre>KMeans(n_clusters=2, n_init=&#x27;auto&#x27;, random_state=0)</pre></div></div></div></div></div>"
      ],
      "text/plain": [
       "KMeans(n_clusters=2, n_init='auto', random_state=0)"
      ]
     },
     "execution_count": 5,
     "metadata": {},
     "output_type": "execute_result"
    }
   ],
   "source": [
    "kmeans.fit(X)"
   ]
  },
  {
   "cell_type": "code",
   "execution_count": 6,
   "id": "ec1da491",
   "metadata": {},
   "outputs": [
    {
     "data": {
      "text/plain": [
       "array([1, 1, 1, 0, 0, 0])"
      ]
     },
     "execution_count": 6,
     "metadata": {},
     "output_type": "execute_result"
    }
   ],
   "source": [
    "kmeans.labels_ #Here two clusters are there first three rows represented as 1st cluster and next three rows represented as as 0th cluster "
   ]
  },
  {
   "cell_type": "code",
   "execution_count": 7,
   "id": "9816426c",
   "metadata": {},
   "outputs": [
    {
     "data": {
      "text/plain": [
       "array([[ 0,  0],\n",
       "       [12, 13]])"
      ]
     },
     "execution_count": 7,
     "metadata": {},
     "output_type": "execute_result"
    }
   ],
   "source": [
    "np.array([[0,0],[12,13]])"
   ]
  },
  {
   "cell_type": "code",
   "execution_count": 8,
   "id": "f4b39029",
   "metadata": {},
   "outputs": [
    {
     "data": {
      "text/plain": [
       "array([1, 0])"
      ]
     },
     "execution_count": 8,
     "metadata": {},
     "output_type": "execute_result"
    }
   ],
   "source": [
    "kmeans.predict([[ 0,  0],[12, 13]])"
   ]
  },
  {
   "cell_type": "code",
   "execution_count": 9,
   "id": "3b55235e",
   "metadata": {},
   "outputs": [
    {
     "data": {
      "text/plain": [
       "array([[10.,  2.],\n",
       "       [ 1.,  2.]])"
      ]
     },
     "execution_count": 9,
     "metadata": {},
     "output_type": "execute_result"
    }
   ],
   "source": [
    "kmeans.cluster_centers_  #centroid positions"
   ]
  },
  {
   "cell_type": "code",
   "execution_count": 10,
   "id": "23cf30d5",
   "metadata": {},
   "outputs": [],
   "source": [
    "X1 = np.array([[1, 2], [1, 4], [1, 0],[10, 2], [10, 4], [10, 0],[100,110],[1000,1200]])"
   ]
  },
  {
   "cell_type": "code",
   "execution_count": 11,
   "id": "4eab9c10",
   "metadata": {},
   "outputs": [
    {
     "data": {
      "text/plain": [
       "dtype('int32')"
      ]
     },
     "execution_count": 11,
     "metadata": {},
     "output_type": "execute_result"
    }
   ],
   "source": [
    "X1.dtype"
   ]
  },
  {
   "cell_type": "code",
   "execution_count": 12,
   "id": "e1580c47",
   "metadata": {},
   "outputs": [
    {
     "data": {
      "text/plain": [
       "array([[   1,    2],\n",
       "       [   1,    4],\n",
       "       [   1,    0],\n",
       "       [  10,    2],\n",
       "       [  10,    4],\n",
       "       [  10,    0],\n",
       "       [ 100,  110],\n",
       "       [1000, 1200]])"
      ]
     },
     "execution_count": 12,
     "metadata": {},
     "output_type": "execute_result"
    }
   ],
   "source": [
    "X1"
   ]
  },
  {
   "cell_type": "code",
   "execution_count": 13,
   "id": "2e670c0a",
   "metadata": {},
   "outputs": [],
   "source": [
    "kmeans=KMeans(n_clusters=4)"
   ]
  },
  {
   "cell_type": "code",
   "execution_count": 14,
   "id": "5dae66b7",
   "metadata": {},
   "outputs": [
    {
     "data": {
      "text/html": [
       "<style>#sk-container-id-2 {color: black;background-color: white;}#sk-container-id-2 pre{padding: 0;}#sk-container-id-2 div.sk-toggleable {background-color: white;}#sk-container-id-2 label.sk-toggleable__label {cursor: pointer;display: block;width: 100%;margin-bottom: 0;padding: 0.3em;box-sizing: border-box;text-align: center;}#sk-container-id-2 label.sk-toggleable__label-arrow:before {content: \"▸\";float: left;margin-right: 0.25em;color: #696969;}#sk-container-id-2 label.sk-toggleable__label-arrow:hover:before {color: black;}#sk-container-id-2 div.sk-estimator:hover label.sk-toggleable__label-arrow:before {color: black;}#sk-container-id-2 div.sk-toggleable__content {max-height: 0;max-width: 0;overflow: hidden;text-align: left;background-color: #f0f8ff;}#sk-container-id-2 div.sk-toggleable__content pre {margin: 0.2em;color: black;border-radius: 0.25em;background-color: #f0f8ff;}#sk-container-id-2 input.sk-toggleable__control:checked~div.sk-toggleable__content {max-height: 200px;max-width: 100%;overflow: auto;}#sk-container-id-2 input.sk-toggleable__control:checked~label.sk-toggleable__label-arrow:before {content: \"▾\";}#sk-container-id-2 div.sk-estimator input.sk-toggleable__control:checked~label.sk-toggleable__label {background-color: #d4ebff;}#sk-container-id-2 div.sk-label input.sk-toggleable__control:checked~label.sk-toggleable__label {background-color: #d4ebff;}#sk-container-id-2 input.sk-hidden--visually {border: 0;clip: rect(1px 1px 1px 1px);clip: rect(1px, 1px, 1px, 1px);height: 1px;margin: -1px;overflow: hidden;padding: 0;position: absolute;width: 1px;}#sk-container-id-2 div.sk-estimator {font-family: monospace;background-color: #f0f8ff;border: 1px dotted black;border-radius: 0.25em;box-sizing: border-box;margin-bottom: 0.5em;}#sk-container-id-2 div.sk-estimator:hover {background-color: #d4ebff;}#sk-container-id-2 div.sk-parallel-item::after {content: \"\";width: 100%;border-bottom: 1px solid gray;flex-grow: 1;}#sk-container-id-2 div.sk-label:hover label.sk-toggleable__label {background-color: #d4ebff;}#sk-container-id-2 div.sk-serial::before {content: \"\";position: absolute;border-left: 1px solid gray;box-sizing: border-box;top: 0;bottom: 0;left: 50%;z-index: 0;}#sk-container-id-2 div.sk-serial {display: flex;flex-direction: column;align-items: center;background-color: white;padding-right: 0.2em;padding-left: 0.2em;position: relative;}#sk-container-id-2 div.sk-item {position: relative;z-index: 1;}#sk-container-id-2 div.sk-parallel {display: flex;align-items: stretch;justify-content: center;background-color: white;position: relative;}#sk-container-id-2 div.sk-item::before, #sk-container-id-2 div.sk-parallel-item::before {content: \"\";position: absolute;border-left: 1px solid gray;box-sizing: border-box;top: 0;bottom: 0;left: 50%;z-index: -1;}#sk-container-id-2 div.sk-parallel-item {display: flex;flex-direction: column;z-index: 1;position: relative;background-color: white;}#sk-container-id-2 div.sk-parallel-item:first-child::after {align-self: flex-end;width: 50%;}#sk-container-id-2 div.sk-parallel-item:last-child::after {align-self: flex-start;width: 50%;}#sk-container-id-2 div.sk-parallel-item:only-child::after {width: 0;}#sk-container-id-2 div.sk-dashed-wrapped {border: 1px dashed gray;margin: 0 0.4em 0.5em 0.4em;box-sizing: border-box;padding-bottom: 0.4em;background-color: white;}#sk-container-id-2 div.sk-label label {font-family: monospace;font-weight: bold;display: inline-block;line-height: 1.2em;}#sk-container-id-2 div.sk-label-container {text-align: center;}#sk-container-id-2 div.sk-container {/* jupyter's `normalize.less` sets `[hidden] { display: none; }` but bootstrap.min.css set `[hidden] { display: none !important; }` so we also need the `!important` here to be able to override the default hidden behavior on the sphinx rendered scikit-learn.org. See: https://github.com/scikit-learn/scikit-learn/issues/21755 */display: inline-block !important;position: relative;}#sk-container-id-2 div.sk-text-repr-fallback {display: none;}</style><div id=\"sk-container-id-2\" class=\"sk-top-container\"><div class=\"sk-text-repr-fallback\"><pre>KMeans(n_clusters=4)</pre><b>In a Jupyter environment, please rerun this cell to show the HTML representation or trust the notebook. <br />On GitHub, the HTML representation is unable to render, please try loading this page with nbviewer.org.</b></div><div class=\"sk-container\" hidden><div class=\"sk-item\"><div class=\"sk-estimator sk-toggleable\"><input class=\"sk-toggleable__control sk-hidden--visually\" id=\"sk-estimator-id-2\" type=\"checkbox\" checked><label for=\"sk-estimator-id-2\" class=\"sk-toggleable__label sk-toggleable__label-arrow\">KMeans</label><div class=\"sk-toggleable__content\"><pre>KMeans(n_clusters=4)</pre></div></div></div></div></div>"
      ],
      "text/plain": [
       "KMeans(n_clusters=4)"
      ]
     },
     "execution_count": 14,
     "metadata": {},
     "output_type": "execute_result"
    }
   ],
   "source": [
    "kmeans.fit(X1)"
   ]
  },
  {
   "cell_type": "code",
   "execution_count": null,
   "id": "da2ca038",
   "metadata": {},
   "outputs": [],
   "source": []
  },
  {
   "cell_type": "code",
   "execution_count": 15,
   "id": "621d65ba",
   "metadata": {},
   "outputs": [
    {
     "data": {
      "text/plain": [
       "array([3, 3, 3, 2, 2, 2, 0, 1])"
      ]
     },
     "execution_count": 15,
     "metadata": {},
     "output_type": "execute_result"
    }
   ],
   "source": [
    "kmeans.labels_ #If we are not passing number of clusters in function then the function consider as many number of data points available as as available for clusters "
   ]
  },
  {
   "cell_type": "code",
   "execution_count": 16,
   "id": "0dee6560",
   "metadata": {},
   "outputs": [],
   "source": [
    "data=pd.DataFrame(X1,columns=['D1','D2'])"
   ]
  },
  {
   "cell_type": "code",
   "execution_count": 17,
   "id": "f96cbaf4",
   "metadata": {},
   "outputs": [],
   "source": [
    "labels=pd.DataFrame(kmeans.labels_,columns=['labels'])"
   ]
  },
  {
   "cell_type": "code",
   "execution_count": 18,
   "id": "dfab8374",
   "metadata": {},
   "outputs": [],
   "source": [
    "data_with_label=pd.concat([data,labels],axis=1)"
   ]
  },
  {
   "cell_type": "code",
   "execution_count": 19,
   "id": "9ff00318",
   "metadata": {},
   "outputs": [
    {
     "data": {
      "text/html": [
       "<div>\n",
       "<style scoped>\n",
       "    .dataframe tbody tr th:only-of-type {\n",
       "        vertical-align: middle;\n",
       "    }\n",
       "\n",
       "    .dataframe tbody tr th {\n",
       "        vertical-align: top;\n",
       "    }\n",
       "\n",
       "    .dataframe thead th {\n",
       "        text-align: right;\n",
       "    }\n",
       "</style>\n",
       "<table border=\"1\" class=\"dataframe\">\n",
       "  <thead>\n",
       "    <tr style=\"text-align: right;\">\n",
       "      <th></th>\n",
       "      <th>D1</th>\n",
       "      <th>D2</th>\n",
       "      <th>labels</th>\n",
       "    </tr>\n",
       "  </thead>\n",
       "  <tbody>\n",
       "    <tr>\n",
       "      <th>0</th>\n",
       "      <td>1</td>\n",
       "      <td>2</td>\n",
       "      <td>3</td>\n",
       "    </tr>\n",
       "    <tr>\n",
       "      <th>1</th>\n",
       "      <td>1</td>\n",
       "      <td>4</td>\n",
       "      <td>3</td>\n",
       "    </tr>\n",
       "    <tr>\n",
       "      <th>2</th>\n",
       "      <td>1</td>\n",
       "      <td>0</td>\n",
       "      <td>3</td>\n",
       "    </tr>\n",
       "    <tr>\n",
       "      <th>3</th>\n",
       "      <td>10</td>\n",
       "      <td>2</td>\n",
       "      <td>2</td>\n",
       "    </tr>\n",
       "    <tr>\n",
       "      <th>4</th>\n",
       "      <td>10</td>\n",
       "      <td>4</td>\n",
       "      <td>2</td>\n",
       "    </tr>\n",
       "    <tr>\n",
       "      <th>5</th>\n",
       "      <td>10</td>\n",
       "      <td>0</td>\n",
       "      <td>2</td>\n",
       "    </tr>\n",
       "    <tr>\n",
       "      <th>6</th>\n",
       "      <td>100</td>\n",
       "      <td>110</td>\n",
       "      <td>0</td>\n",
       "    </tr>\n",
       "    <tr>\n",
       "      <th>7</th>\n",
       "      <td>1000</td>\n",
       "      <td>1200</td>\n",
       "      <td>1</td>\n",
       "    </tr>\n",
       "  </tbody>\n",
       "</table>\n",
       "</div>"
      ],
      "text/plain": [
       "     D1    D2  labels\n",
       "0     1     2       3\n",
       "1     1     4       3\n",
       "2     1     0       3\n",
       "3    10     2       2\n",
       "4    10     4       2\n",
       "5    10     0       2\n",
       "6   100   110       0\n",
       "7  1000  1200       1"
      ]
     },
     "execution_count": 19,
     "metadata": {},
     "output_type": "execute_result"
    }
   ],
   "source": [
    "data_with_label"
   ]
  },
  {
   "cell_type": "code",
   "execution_count": 20,
   "id": "0f103dbd",
   "metadata": {},
   "outputs": [
    {
     "data": {
      "text/plain": [
       "array([3, 2])"
      ]
     },
     "execution_count": 20,
     "metadata": {},
     "output_type": "execute_result"
    }
   ],
   "source": [
    "kmeans.predict([[ 0,  0],[12, 13]])"
   ]
  },
  {
   "cell_type": "code",
   "execution_count": 21,
   "id": "cada5a01",
   "metadata": {},
   "outputs": [
    {
     "data": {
      "text/plain": [
       "array([[1.0e+02, 1.1e+02],\n",
       "       [1.0e+03, 1.2e+03],\n",
       "       [1.0e+01, 2.0e+00],\n",
       "       [1.0e+00, 2.0e+00]])"
      ]
     },
     "execution_count": 21,
     "metadata": {},
     "output_type": "execute_result"
    }
   ],
   "source": [
    "kmeans.cluster_centers_"
   ]
  },
  {
   "cell_type": "code",
   "execution_count": 22,
   "id": "5ae83ac7",
   "metadata": {},
   "outputs": [],
   "source": [
    "x,y=make_blobs(n_samples=1000,n_features=2,random_state=10)"
   ]
  },
  {
   "cell_type": "code",
   "execution_count": 23,
   "id": "bafc9ce4",
   "metadata": {},
   "outputs": [
    {
     "data": {
      "text/plain": [
       "(1000, 2)"
      ]
     },
     "execution_count": 23,
     "metadata": {},
     "output_type": "execute_result"
    }
   ],
   "source": [
    "x.shape"
   ]
  },
  {
   "cell_type": "code",
   "execution_count": 24,
   "id": "547e3763",
   "metadata": {},
   "outputs": [
    {
     "data": {
      "text/plain": [
       "(1000,)"
      ]
     },
     "execution_count": 24,
     "metadata": {},
     "output_type": "execute_result"
    }
   ],
   "source": [
    "y.shape"
   ]
  },
  {
   "cell_type": "code",
   "execution_count": 25,
   "id": "49c593d0",
   "metadata": {},
   "outputs": [
    {
     "data": {
      "text/plain": [
       "array([[ 4.56889035, -9.9492391 ],\n",
       "       [ 2.35388502,  3.51466401],\n",
       "       [-0.01750156, -6.05038477],\n",
       "       ...,\n",
       "       [ 4.89123569,  4.86995972],\n",
       "       [ 1.09272697,  4.04641343],\n",
       "       [ 0.97077866, -4.8289551 ]])"
      ]
     },
     "execution_count": 25,
     "metadata": {},
     "output_type": "execute_result"
    }
   ],
   "source": [
    "x"
   ]
  },
  {
   "cell_type": "code",
   "execution_count": 26,
   "id": "33219c3c",
   "metadata": {},
   "outputs": [
    {
     "data": {
      "text/plain": [
       "array([0, 1, 2, 2, 1, 2, 2, 2, 2, 2, 0, 1, 0, 0, 2, 2, 2, 0, 0, 0, 2, 0,\n",
       "       2, 2, 1, 1, 0, 1, 0, 0, 0, 0, 0, 0, 0, 1, 1, 0, 1, 1, 1, 2, 1, 1,\n",
       "       0, 1, 2, 2, 0, 0, 0, 2, 1, 2, 1, 2, 2, 0, 1, 1, 2, 2, 0, 1, 2, 0,\n",
       "       1, 0, 1, 1, 1, 2, 2, 0, 2, 2, 0, 0, 0, 2, 2, 2, 1, 2, 1, 0, 1, 2,\n",
       "       2, 1, 1, 0, 0, 1, 2, 0, 1, 0, 0, 1, 1, 2, 1, 1, 2, 0, 2, 1, 0, 2,\n",
       "       2, 1, 0, 1, 2, 0, 1, 2, 2, 1, 0, 0, 0, 0, 0, 0, 1, 2, 1, 1, 1, 2,\n",
       "       1, 2, 2, 2, 2, 0, 2, 2, 0, 1, 2, 0, 1, 0, 2, 1, 1, 2, 1, 0, 0, 2,\n",
       "       2, 1, 2, 2, 1, 2, 1, 2, 0, 0, 1, 1, 1, 1, 0, 2, 1, 2, 2, 2, 0, 0,\n",
       "       2, 0, 0, 0, 2, 2, 0, 2, 1, 1, 2, 2, 2, 1, 2, 2, 0, 0, 1, 0, 1, 1,\n",
       "       2, 2, 2, 0, 1, 2, 0, 0, 1, 1, 1, 2, 1, 1, 1, 1, 1, 1, 0, 0, 1, 2,\n",
       "       1, 2, 0, 0, 2, 1, 2, 1, 0, 2, 1, 0, 1, 0, 2, 2, 0, 1, 2, 2, 1, 2,\n",
       "       1, 0, 0, 1, 2, 2, 2, 1, 2, 1, 0, 1, 1, 1, 1, 2, 1, 1, 0, 0, 1, 2,\n",
       "       1, 0, 2, 0, 1, 0, 0, 1, 2, 0, 2, 0, 1, 1, 0, 0, 0, 1, 2, 1, 1, 0,\n",
       "       0, 0, 0, 2, 2, 1, 1, 1, 2, 1, 2, 0, 0, 2, 2, 0, 2, 0, 0, 0, 2, 2,\n",
       "       0, 1, 0, 0, 2, 0, 0, 1, 2, 0, 2, 2, 2, 1, 1, 0, 2, 0, 1, 2, 0, 2,\n",
       "       1, 2, 0, 2, 0, 0, 0, 0, 2, 0, 0, 1, 2, 1, 0, 1, 1, 1, 0, 1, 0, 0,\n",
       "       0, 1, 1, 2, 2, 0, 1, 2, 2, 2, 0, 2, 0, 1, 2, 2, 1, 2, 2, 2, 0, 1,\n",
       "       2, 2, 0, 0, 2, 0, 0, 1, 2, 1, 1, 1, 0, 2, 0, 0, 2, 2, 1, 2, 2, 1,\n",
       "       0, 2, 2, 2, 1, 0, 2, 2, 2, 0, 1, 2, 1, 2, 0, 0, 2, 2, 2, 0, 2, 0,\n",
       "       0, 1, 2, 0, 2, 0, 2, 0, 1, 1, 1, 1, 2, 0, 2, 0, 0, 1, 1, 2, 1, 2,\n",
       "       0, 1, 0, 0, 1, 1, 0, 0, 2, 1, 1, 1, 2, 0, 0, 1, 1, 0, 1, 0, 1, 2,\n",
       "       0, 0, 2, 1, 0, 2, 2, 1, 2, 0, 2, 2, 0, 0, 0, 2, 0, 0, 1, 1, 2, 0,\n",
       "       2, 2, 0, 0, 0, 2, 1, 2, 0, 2, 2, 2, 0, 2, 1, 0, 0, 2, 2, 2, 0, 0,\n",
       "       0, 0, 2, 2, 1, 0, 1, 1, 0, 0, 2, 1, 2, 2, 1, 2, 1, 2, 2, 1, 0, 1,\n",
       "       2, 2, 0, 2, 1, 1, 1, 1, 2, 2, 2, 2, 2, 1, 1, 2, 1, 0, 2, 1, 1, 0,\n",
       "       2, 2, 1, 1, 0, 0, 1, 0, 1, 1, 0, 0, 2, 0, 1, 0, 1, 0, 1, 1, 2, 0,\n",
       "       0, 2, 0, 2, 2, 2, 1, 1, 1, 2, 1, 0, 1, 2, 0, 0, 0, 1, 1, 1, 1, 1,\n",
       "       1, 0, 2, 2, 2, 2, 2, 1, 1, 0, 1, 1, 0, 0, 2, 1, 2, 1, 2, 1, 2, 1,\n",
       "       0, 1, 0, 2, 2, 0, 0, 2, 1, 2, 2, 0, 1, 0, 0, 2, 1, 1, 1, 0, 1, 0,\n",
       "       1, 0, 1, 0, 1, 1, 0, 0, 2, 2, 1, 2, 2, 1, 0, 2, 2, 0, 1, 0, 1, 0,\n",
       "       1, 0, 2, 2, 2, 2, 1, 2, 2, 2, 2, 0, 0, 1, 1, 1, 1, 0, 2, 2, 1, 0,\n",
       "       2, 2, 1, 0, 0, 1, 2, 1, 0, 0, 0, 0, 0, 0, 0, 1, 0, 2, 1, 2, 0, 1,\n",
       "       2, 2, 2, 2, 0, 1, 0, 2, 0, 1, 2, 1, 2, 1, 2, 1, 1, 1, 1, 1, 0, 1,\n",
       "       2, 0, 0, 1, 0, 0, 0, 2, 1, 0, 0, 0, 2, 1, 0, 1, 2, 2, 2, 0, 1, 0,\n",
       "       1, 0, 1, 1, 0, 0, 1, 0, 1, 2, 1, 1, 1, 0, 2, 1, 0, 2, 0, 0, 2, 1,\n",
       "       2, 1, 0, 1, 1, 1, 2, 1, 2, 1, 2, 1, 1, 1, 1, 0, 2, 0, 2, 0, 2, 0,\n",
       "       2, 1, 1, 2, 1, 2, 0, 1, 2, 1, 0, 2, 2, 1, 0, 1, 1, 0, 0, 0, 1, 2,\n",
       "       1, 0, 2, 1, 2, 1, 0, 1, 0, 1, 0, 1, 0, 1, 1, 2, 2, 0, 1, 0, 1, 0,\n",
       "       2, 1, 2, 0, 2, 0, 2, 2, 0, 2, 2, 0, 0, 0, 1, 0, 0, 2, 0, 2, 0, 0,\n",
       "       2, 2, 1, 2, 1, 0, 2, 1, 1, 0, 2, 2, 0, 2, 0, 0, 0, 1, 2, 0, 0, 0,\n",
       "       1, 2, 0, 2, 2, 2, 0, 1, 1, 0, 0, 0, 1, 1, 2, 2, 1, 1, 2, 2, 0, 0,\n",
       "       1, 1, 2, 1, 0, 0, 2, 0, 1, 1, 1, 0, 2, 1, 1, 0, 0, 1, 0, 0, 0, 2,\n",
       "       2, 2, 0, 1, 0, 1, 1, 1, 2, 1, 0, 0, 0, 2, 1, 2, 0, 0, 1, 0, 2, 1,\n",
       "       2, 2, 2, 0, 1, 1, 1, 2, 1, 1, 1, 2, 1, 0, 2, 2, 1, 0, 0, 2, 1, 0,\n",
       "       0, 1, 2, 0, 0, 2, 2, 1, 0, 2, 1, 0, 1, 0, 2, 1, 1, 1, 2, 1, 2, 2,\n",
       "       0, 0, 2, 1, 0, 2, 0, 1, 1, 2])"
      ]
     },
     "execution_count": 26,
     "metadata": {},
     "output_type": "execute_result"
    }
   ],
   "source": [
    "y"
   ]
  },
  {
   "cell_type": "code",
   "execution_count": 27,
   "id": "d67202dc",
   "metadata": {},
   "outputs": [
    {
     "data": {
      "text/plain": [
       "<matplotlib.collections.PathCollection at 0x2262a8c3040>"
      ]
     },
     "execution_count": 27,
     "metadata": {},
     "output_type": "execute_result"
    },
    {
     "data": {
      "image/png": "[encoded data removed]",
      "text/plain": [
       "<Figure size 640x480 with 1 Axes>"
      ]
     },
     "metadata": {},
     "output_type": "display_data"
    }
   ],
   "source": [
    "plt.scatter(x[:,0],x[:,1])"
   ]
  },
  {
   "cell_type": "code",
   "execution_count": 28,
   "id": "87d6aa6a",
   "metadata": {},
   "outputs": [],
   "source": [
    "from sklearn.model_selection import train_test_split\n",
    "x_train,x_test,y_train,y_test=train_test_split(x,y,test_size=0.33,random_state=20)"
   ]
  },
  {
   "cell_type": "code",
   "execution_count": 29,
   "id": "f2fb40a2",
   "metadata": {},
   "outputs": [],
   "source": [
    "wcss=[]\n",
    "for k in range(2,11):           \n",
    "    kmean=KMeans(n_clusters=k,init=\"k-means++\")\n",
    "    kmean.fit(x_train)\n",
    "    wcss.append(kmean.inertia_)    #calculate wcss-->within cluster sum of squares"
   ]
  },
  {
   "cell_type": "code",
   "execution_count": 30,
   "id": "8a41378a",
   "metadata": {},
   "outputs": [
    {
     "data": {
      "text/plain": [
       "[6350.499237030181,\n",
       " 1230.8405264123764,\n",
       " 1080.8231548089852,\n",
       " 946.2006483652705,\n",
       " 816.2570312348486,\n",
       " 708.4307383778769,\n",
       " 607.5550470453064,\n",
       " 528.5906802435676,\n",
       " 487.24152368376747]"
      ]
     },
     "execution_count": 30,
     "metadata": {},
     "output_type": "execute_result"
    }
   ],
   "source": [
    "wcss"
   ]
  },
  {
   "cell_type": "code",
   "execution_count": 31,
   "id": "fb933273",
   "metadata": {},
   "outputs": [
    {
     "data": {
      "image/png": "[encoded data removed]",
      "text/plain": [
       "<Figure size 640x480 with 1 Axes>"
      ]
     },
     "metadata": {},
     "output_type": "display_data"
    }
   ],
   "source": [
    "plt.plot(range(2,11),wcss)\n",
    "plt.xticks(range(2,11))\n",
    "plt.xlabel(\"number of clusters\")\n",
    "plt.ylabel(\"WCSS\")\n",
    "plt.show()\n"
   ]
  },
  {
   "cell_type": "code",
   "execution_count": 32,
   "id": "e34ad1d5",
   "metadata": {},
   "outputs": [],
   "source": [
    "kmeans=KMeans(n_clusters=3,init=\"k-means++\")"
   ]
  },
  {
   "cell_type": "code",
   "execution_count": 33,
   "id": "d1afe55d",
   "metadata": {},
   "outputs": [],
   "source": [
    "y_labels=kmeans.fit_predict(x_train)"
   ]
  },
  {
   "cell_type": "code",
   "execution_count": 34,
   "id": "3cb7ab9e",
   "metadata": {},
   "outputs": [
    {
     "data": {
      "text/plain": [
       "array([0, 2, 0, 2, 0, 0, 2, 1, 2, 1, 1, 1, 0, 0, 0, 0, 0, 0, 1, 0, 2, 1,\n",
       "       2, 2, 1, 2, 1, 0, 2, 1, 0, 0, 1, 1, 1, 2, 2, 1, 2, 0, 2, 2, 1, 2,\n",
       "       1, 2, 2, 0, 1, 0, 1, 1, 0, 1, 0, 0, 2, 0, 1, 0, 2, 1, 0, 1, 1, 0,\n",
       "       0, 0, 1, 0, 2, 1, 0, 0, 0, 2, 2, 2, 2, 2, 0, 0, 2, 2, 1, 0, 2, 1,\n",
       "       2, 0, 2, 2, 2, 0, 0, 1, 1, 1, 1, 1, 0, 0, 1, 0, 2, 2, 0, 1, 2, 2,\n",
       "       2, 0, 1, 0, 1, 2, 0, 0, 1, 1, 0, 0, 0, 2, 2, 0, 0, 1, 0, 0, 1, 0,\n",
       "       0, 2, 2, 0, 2, 0, 2, 1, 2, 2, 1, 2, 2, 2, 0, 1, 2, 1, 2, 1, 1, 0,\n",
       "       2, 2, 2, 1, 1, 1, 2, 1, 2, 0, 2, 1, 2, 2, 1, 0, 1, 1, 0, 1, 0, 1,\n",
       "       2, 2, 2, 1, 1, 0, 0, 1, 0, 1, 0, 2, 2, 2, 0, 2, 0, 1, 1, 1, 0, 1,\n",
       "       2, 1, 1, 0, 1, 1, 1, 0, 2, 2, 0, 1, 2, 1, 1, 1, 2, 0, 0, 2, 2, 2,\n",
       "       0, 2, 2, 0, 0, 1, 1, 0, 2, 1, 0, 0, 0, 1, 2, 0, 0, 1, 2, 0, 1, 0,\n",
       "       2, 2, 2, 1, 1, 2, 1, 2, 0, 1, 2, 1, 0, 1, 2, 1, 0, 0, 2, 1, 1, 1,\n",
       "       2, 2, 1, 1, 2, 1, 2, 0, 1, 1, 0, 0, 2, 1, 1, 1, 1, 0, 0, 2, 1, 1,\n",
       "       0, 0, 1, 0, 2, 2, 0, 1, 1, 2, 0, 2, 1, 2, 0, 0, 2, 1, 0, 1, 0, 1,\n",
       "       1, 0, 2, 1, 2, 1, 1, 2, 0, 0, 1, 1, 2, 1, 0, 1, 1, 1, 1, 2, 2, 0,\n",
       "       2, 0, 2, 0, 0, 2, 2, 2, 2, 2, 2, 0, 2, 1, 0, 1, 0, 2, 1, 0, 1, 2,\n",
       "       1, 1, 1, 0, 1, 0, 1, 1, 1, 1, 1, 1, 0, 1, 1, 0, 0, 0, 2, 1, 0, 1,\n",
       "       1, 2, 1, 0, 1, 1, 1, 1, 2, 1, 2, 1, 0, 2, 0, 2, 0, 2, 2, 1, 2, 2,\n",
       "       1, 0, 0, 1, 0, 2, 2, 2, 2, 1, 1, 0, 2, 0, 0, 1, 1, 2, 2, 2, 2, 0,\n",
       "       2, 1, 2, 1, 1, 2, 1, 1, 1, 2, 2, 1, 2, 1, 2, 2, 1, 0, 0, 0, 0, 2,\n",
       "       2, 0, 0, 1, 0, 0, 0, 1, 1, 2, 0, 0, 2, 0, 2, 2, 1, 1, 1, 2, 0, 1,\n",
       "       0, 0, 2, 0, 2, 0, 1, 1, 1, 2, 1, 0, 0, 1, 2, 0, 2, 1, 2, 0, 0, 2,\n",
       "       0, 1, 2, 1, 2, 2, 1, 2, 2, 0, 2, 1, 0, 2, 0, 2, 2, 1, 1, 2, 1, 0,\n",
       "       1, 1, 2, 1, 0, 2, 2, 0, 2, 2, 1, 1, 0, 0, 0, 2, 0, 0, 2, 0, 1, 0,\n",
       "       2, 1, 2, 2, 1, 1, 2, 1, 2, 2, 2, 1, 0, 1, 1, 0, 1, 2, 1, 2, 0, 2,\n",
       "       1, 2, 1, 0, 1, 0, 0, 0, 1, 0, 1, 0, 2, 2, 0, 2, 2, 0, 1, 1, 0, 1,\n",
       "       2, 2, 1, 2, 1, 1, 2, 0, 1, 2, 0, 0, 0, 2, 1, 0, 1, 1, 0, 0, 0, 0,\n",
       "       1, 2, 1, 2, 2, 1, 1, 2, 0, 0, 0, 0, 0, 1, 0, 1, 0, 1, 2, 0, 0, 0,\n",
       "       1, 1, 1, 2, 0, 1, 0, 2, 1, 0, 2, 2, 2, 1, 2, 0, 0, 0, 0, 0, 1, 0,\n",
       "       0, 0, 1, 0, 1, 0, 1, 1, 0, 1, 0, 0, 1, 2, 1, 1, 1, 1, 1, 0, 2, 2,\n",
       "       0, 0, 0, 0, 1, 0, 2, 1, 2, 0])"
      ]
     },
     "execution_count": 34,
     "metadata": {},
     "output_type": "execute_result"
    }
   ],
   "source": [
    "y_labels"
   ]
  },
  {
   "cell_type": "code",
   "execution_count": 35,
   "id": "2a468005",
   "metadata": {},
   "outputs": [
    {
     "data": {
      "text/plain": [
       "array([2, 0, 2, 0, 2, 2, 0, 1, 0, 1, 1, 1, 2, 2, 2, 2, 2, 2, 1, 2, 0, 1,\n",
       "       0, 0, 1, 0, 1, 2, 0, 1, 2, 2, 1, 1, 1, 0, 0, 1, 0, 2, 0, 0, 1, 0,\n",
       "       1, 0, 0, 2, 1, 2, 1, 1, 2, 1, 2, 2, 0, 2, 1, 2, 0, 1, 2, 1, 1, 2,\n",
       "       2, 2, 1, 2, 0, 1, 2, 2, 2, 0, 0, 0, 0, 0, 2, 2, 0, 0, 1, 2, 0, 1,\n",
       "       0, 2, 0, 0, 0, 2, 2, 1, 1, 1, 1, 1, 2, 2, 1, 2, 0, 0, 2, 1, 0, 0,\n",
       "       0, 2, 1, 2, 1, 0, 2, 2, 1, 1, 2, 2, 2, 0, 0, 2, 2, 1, 2, 2, 1, 2,\n",
       "       2, 0, 0, 2, 0, 2, 0, 1, 0, 0, 1, 0, 0, 0, 2, 1, 0, 1, 0, 1, 1, 2,\n",
       "       0, 0, 0, 1, 1, 1, 0, 1, 0, 2, 0, 1, 0, 0, 1, 2, 1, 1, 2, 1, 2, 1,\n",
       "       0, 0, 0, 1, 1, 2, 2, 1, 2, 1, 2, 0, 0, 0, 2, 0, 2, 1, 1, 1, 2, 1,\n",
       "       0, 1, 1, 2, 1, 1, 1, 2, 0, 0, 2, 1, 0, 1, 1, 1, 0, 2, 2, 0, 0, 0,\n",
       "       2, 0, 0, 2, 2, 1, 1, 2, 0, 1, 2, 2, 2, 1, 0, 2, 2, 1, 0, 2, 1, 2,\n",
       "       0, 0, 0, 1, 1, 0, 1, 0, 2, 1, 0, 1, 2, 1, 0, 1, 2, 2, 0, 1, 1, 1,\n",
       "       0, 0, 1, 1, 0, 1, 0, 2, 1, 1, 2, 2, 0, 1, 1, 1, 1, 2, 2, 0, 1, 1,\n",
       "       2, 2, 1, 2, 0, 0, 2, 1, 1, 0, 2, 0, 1, 0, 2, 2, 0, 1, 2, 1, 2, 1,\n",
       "       1, 2, 0, 1, 0, 1, 1, 0, 2, 2, 1, 1, 0, 1, 2, 1, 1, 1, 1, 0, 0, 2,\n",
       "       0, 2, 0, 2, 2, 0, 0, 0, 0, 0, 0, 2, 0, 1, 2, 1, 2, 0, 1, 2, 1, 0,\n",
       "       1, 1, 1, 2, 1, 2, 1, 1, 1, 1, 1, 1, 2, 1, 1, 2, 2, 2, 0, 1, 2, 1,\n",
       "       1, 0, 1, 2, 1, 1, 1, 1, 0, 1, 0, 1, 2, 0, 2, 0, 2, 0, 0, 1, 0, 0,\n",
       "       1, 2, 2, 1, 2, 0, 0, 0, 0, 1, 1, 2, 0, 2, 2, 1, 1, 0, 0, 0, 0, 2,\n",
       "       0, 1, 0, 1, 1, 0, 1, 1, 1, 0, 0, 1, 0, 1, 0, 0, 1, 2, 2, 2, 2, 0,\n",
       "       0, 2, 2, 1, 2, 2, 2, 1, 1, 0, 2, 2, 0, 2, 0, 0, 1, 1, 1, 0, 2, 1,\n",
       "       0, 2, 0, 2, 0, 2, 1, 1, 1, 0, 1, 2, 2, 1, 0, 2, 0, 1, 0, 2, 2, 0,\n",
       "       2, 1, 0, 1, 0, 0, 1, 0, 0, 2, 0, 1, 2, 0, 2, 0, 0, 1, 1, 0, 1, 2,\n",
       "       1, 1, 0, 1, 2, 0, 0, 2, 0, 0, 1, 1, 2, 2, 2, 0, 2, 2, 0, 2, 1, 2,\n",
       "       0, 1, 0, 0, 1, 1, 0, 1, 0, 0, 0, 1, 2, 1, 1, 2, 1, 0, 1, 0, 2, 0,\n",
       "       1, 0, 1, 2, 1, 2, 2, 2, 1, 2, 1, 2, 0, 0, 2, 0, 0, 2, 1, 1, 2, 1,\n",
       "       0, 0, 1, 0, 1, 1, 0, 2, 1, 0, 2, 2, 2, 0, 1, 2, 1, 1, 2, 2, 2, 2,\n",
       "       1, 0, 1, 0, 0, 1, 1, 0, 2, 2, 2, 2, 2, 1, 2, 1, 2, 1, 0, 2, 2, 2,\n",
       "       1, 1, 1, 0, 2, 1, 2, 0, 1, 2, 0, 0, 0, 1, 0, 2, 2, 2, 2, 2, 1, 2,\n",
       "       2, 2, 1, 2, 1, 2, 1, 1, 2, 1, 2, 2, 1, 0, 1, 1, 1, 1, 1, 2, 0, 0,\n",
       "       2, 2, 2, 2, 1, 2, 0, 1, 0, 2])"
      ]
     },
     "execution_count": 35,
     "metadata": {},
     "output_type": "execute_result"
    }
   ],
   "source": [
    "y_train"
   ]
  },
  {
   "cell_type": "code",
   "execution_count": 36,
   "id": "c19f881d",
   "metadata": {},
   "outputs": [
    {
     "data": {
      "text/plain": [
       "<matplotlib.collections.PathCollection at 0x2262c966620>"
      ]
     },
     "execution_count": 36,
     "metadata": {},
     "output_type": "execute_result"
    },
    {
     "data": {
      "image/png": "[encoded data removed]",
      "text/plain": [
       "<Figure size 640x480 with 1 Axes>"
      ]
     },
     "metadata": {},
     "output_type": "display_data"
    }
   ],
   "source": [
    "plt.scatter(x_train[:,0],x_train[:,1],c=y_labels)"
   ]
  },
  {
   "cell_type": "code",
   "execution_count": 37,
   "id": "bc8155e6",
   "metadata": {},
   "outputs": [],
   "source": [
    " from kneed import KneeLocator"
   ]
  },
  {
   "cell_type": "code",
   "execution_count": 38,
   "id": "b264d5d7",
   "metadata": {},
   "outputs": [],
   "source": [
    "k=KneeLocator(range(2,11),wcss,curve='convex',direction='decreasing')"
   ]
  },
  {
   "cell_type": "code",
   "execution_count": 39,
   "id": "5e08b0aa",
   "metadata": {},
   "outputs": [
    {
     "data": {
      "text/plain": [
       "3"
      ]
     },
     "execution_count": 39,
     "metadata": {},
     "output_type": "execute_result"
    }
   ],
   "source": [
    "k.elbow"
   ]
  },
  {
   "cell_type": "markdown",
   "id": "fdf5de2e",
   "metadata": {},
   "source": [
    "### <span style=\"color: Red;\">Silhouette Score</span> "
   ]
  },
  {
   "cell_type": "code",
   "execution_count": 40,
   "id": "ed3b1550",
   "metadata": {},
   "outputs": [],
   "source": [
    "from sklearn.metrics import silhouette_score"
   ]
  },
  {
   "cell_type": "code",
   "execution_count": 46,
   "id": "41fb7405",
   "metadata": {},
   "outputs": [],
   "source": [
    "silhouette_coefficients=[]\n",
    "for k in range(2,11):\n",
    "    kmeans=KMeans(n_clusters=k,init=\"k-means++\")\n",
    "    kmeans.fit(x_train)\n",
    "    score=silhouette_score(x_train,kmeans.labels_)\n",
    "    silhouette_coefficients.append(score)"
   ]
  },
  {
   "cell_type": "code",
   "execution_count": 47,
   "id": "ca287b70",
   "metadata": {},
   "outputs": [
    {
     "data": {
      "text/plain": [
       "[0.7273220153669463,\n",
       " 0.7835543034796946,\n",
       " 0.6286916654568183,\n",
       " 0.4439790716813787,\n",
       " 0.3122118117349137,\n",
       " 0.33091294600544446,\n",
       " 0.34496599343792655,\n",
       " 0.35022364763762487,\n",
       " 0.3423283648967339]"
      ]
     },
     "execution_count": 47,
     "metadata": {},
     "output_type": "execute_result"
    }
   ],
   "source": [
    "silhouette_coefficients"
   ]
  },
  {
   "cell_type": "code",
   "execution_count": 49,
   "id": "2644149d",
   "metadata": {},
   "outputs": [
    {
     "data": {
      "image/png": "[encoded data removed]",
      "text/plain": [
       "<Figure size 640x480 with 1 Axes>"
      ]
     },
     "metadata": {},
     "output_type": "display_data"
    }
   ],
   "source": [
    "plt.plot(range(2,11),silhouette_coefficients)\n",
    "plt.xticks(range(2,11))\n",
    "plt.xlabel(\"number of cluster\")\n",
    "plt.ylabel(\"silhouette_coefficients\")\n",
    "plt.show()"
   ]
  },
  {
   "cell_type": "code",
   "execution_count": null,
   "id": "5915da86",
   "metadata": {},
   "outputs": [],
   "source": []
  }
 ],
 "metadata": {
  "kernelspec": {
   "display_name": "Python 3 (ipykernel)",
   "language": "python",
   "name": "python3"
  },
  "language_info": {
   "codemirror_mode": {
    "name": "ipython",
    "version": 3
   },
   "file_extension": ".py",
   "mimetype": "text/x-python",
   "name": "python",
   "nbconvert_exporter": "python",
   "pygments_lexer": "ipython3",
   "version": "3.10.9"
  }
 },
 "nbformat": 4,
 "nbformat_minor": 5
}
